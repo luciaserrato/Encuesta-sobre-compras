{
 "cells": [
  {
   "cell_type": "markdown",
   "metadata": {},
   "source": [
    "## Trabajo final: Datos de encuestas sobre compras en Asia\n",
    "#### Trabajo realizado por Lucía Serrato Roldán"
   ]
  },
  {
   "cell_type": "markdown",
   "metadata": {},
   "source": [
    "Para llevar a cabo este proyecto, he utilizado un archivo csv donde aparecen datos sobre el género, la edad, la ciudad y datos económicos."
   ]
  },
  {
   "cell_type": "code",
   "execution_count": 1,
   "metadata": {},
   "outputs": [],
   "source": [
    "import csv\n",
    "from collections import namedtuple\n",
    "from matplotlib import pyplot as plt"
   ]
  },
  {
   "cell_type": "markdown",
   "metadata": {},
   "source": [
    "## FUNCIÓN DE LECTURA"
   ]
  },
  {
   "cell_type": "markdown",
   "metadata": {},
   "source": [
    "###### Primero realizaremos la función de lectura, en primer lugar de manera tradicional y en segundo lugar por una namedtuple."
   ]
  },
  {
   "cell_type": "code",
   "execution_count": 2,
   "metadata": {},
   "outputs": [],
   "source": [
    "lista_compra=[]\n",
    "def lee_listacompra(fichero):\n",
    "    with open (fichero, encoding='utf-8') as f:\n",
    "        lector = csv.reader(f)\n",
    "        next(lector)\n",
    "        for linea in lector:\n",
    "            tupla=(linea[0],linea[1],int(linea[2]),linea[3],linea[4],int(linea[5]),int(linea[6]))\n",
    "            lista_compra.append(tupla)\n",
    "    return lista_compra"
   ]
  },
  {
   "cell_type": "code",
   "execution_count": 3,
   "metadata": {},
   "outputs": [
    {
     "name": "stdout",
     "output_type": "stream",
     "text": [
      "[('1001', 'Male', 49, 'Bengaluru', '527547.5885', 653, 78), ('1002', 'Male', 59, 'Bengaluru', '207143.1976', 630, 63), ('1003', 'Female', 54, 'Delhi', '164423.8457', 555, 69), ('1004', 'Female', 42, 'Bengaluru', '56220.36443', 699, 30), ('1005', 'Female', 30, 'Bengaluru', '256194.3619', 793, 6), ('1006', 'Female', 38, 'Chennai', '475324.8903', 635, 97), ('1007', 'Female', 45, 'Chennai', '186352.3482', 881, 2), ('1008', 'Female', 23, 'Mumbai', '414233.1569', 852, 77), ('1009', 'Male', 59, 'Chennai', '97263.51748', 708, 22), ('1010', 'Female', 48, 'Kolkata', '179271.2332', 669, 97)]\n"
     ]
    }
   ],
   "source": [
    "encuesta=lee_listacompra(\"encuestas_compras.csv\")\n",
    "print(encuesta[:10])"
   ]
  },
  {
   "cell_type": "code",
   "execution_count": 4,
   "metadata": {
    "scrolled": true
   },
   "outputs": [],
   "source": [
    "Registro = namedtuple('Registro',  'numero_identidad,genero,edad,ciudad,record_dinero,record_gastos')\n",
    "def lectura_datos2(fichero):\n",
    "    with open (fichero, 'r', encoding='utf-8') as f:\n",
    "        registros=[]\n",
    "        lector=csv.reader(f)\n",
    "        next(lector)\n",
    "        for numero_identidad, genero, edad, ciudad, record_dinero, record_gastos in lector:\n",
    "            tupla=Registro(int(numero_identidad),genero,int(edad),ciudad,int(record_dinero),int(record_gastos))\n",
    "            #tupla=Registro(int(numero_identidad),genero,int(edad),ciudad,int(record_dinero),int(record_gastos))\n",
    "            registros.append(tupla)\n",
    "    return registros"
   ]
  },
  {
   "cell_type": "markdown",
   "metadata": {},
   "source": []
  },
  {
   "cell_type": "markdown",
   "metadata": {},
   "source": [
    "## FUNCIÓN DE TRUNCADO"
   ]
  },
  {
   "cell_type": "markdown",
   "metadata": {},
   "source": [
    "Para saber de cuántos países diferentes son los participantes de la encuesta, definiremos una función que nos cree una lista de los países. Al crear un conjunto, nos aparecerán todos los países sin repetirse."
   ]
  },
  {
   "cell_type": "code",
   "execution_count": 5,
   "metadata": {},
   "outputs": [],
   "source": [
    "def calcula_paises(encuesta):\n",
    "    lista_paises=[]\n",
    "    for tupla in encuesta:\n",
    "        paises=tupla[3]\n",
    "        lista_paises.append(paises)\n",
    "    return lista_paises\n",
    "  "
   ]
  },
  {
   "cell_type": "markdown",
   "metadata": {},
   "source": [
    "Probamos nuestra funcion:"
   ]
  },
  {
   "cell_type": "code",
   "execution_count": 6,
   "metadata": {},
   "outputs": [
    {
     "name": "stdout",
     "output_type": "stream",
     "text": [
      "['Bengaluru', 'Bengaluru', 'Delhi', 'Bengaluru', 'Bengaluru', 'Chennai', 'Chennai', 'Mumbai', 'Chennai', 'Kolkata', 'Bengaluru', 'Bengaluru', 'Delhi', 'Mumbai', 'Bengaluru', 'Kolkata', 'Bengaluru', 'Mumbai', 'Mumbai', 'Kolkata', 'Chennai', 'Bengaluru', 'Kolkata', 'Mumbai', 'Bengaluru', 'Chennai', 'Kolkata', 'Bengaluru', 'Delhi', 'Chennai', 'Bengaluru', 'Bengaluru', 'Chennai', 'Kolkata', 'Chennai', 'Delhi', 'Mumbai', 'Mumbai', 'Mumbai', 'Mumbai', 'Mumbai', 'Bengaluru', 'Bengaluru', 'Kolkata', 'Delhi', 'Kolkata', 'Bengaluru', 'Mumbai', 'Chennai', 'Chennai', 'Kolkata', 'Bengaluru', 'Kolkata', 'Mumbai', 'Kolkata', 'Delhi', 'Bengaluru', 'Bengaluru', 'Mumbai', 'Bengaluru', 'Mumbai', 'Delhi', 'Bengaluru', 'Bengaluru', 'Bengaluru', 'Chennai', 'Mumbai', 'Delhi', 'Chennai', 'Mumbai', 'Bengaluru', 'Bengaluru', 'Kolkata', 'Mumbai', 'Delhi', 'Chennai', 'Delhi', 'Bengaluru', 'Chennai', 'Chennai', 'Delhi', 'Mumbai', 'Kolkata', 'Chennai', 'Delhi', 'Mumbai', 'Bengaluru', 'Chennai', 'Delhi', 'Delhi', 'Delhi', 'Kolkata', 'Kolkata', 'Mumbai', 'Bengaluru', 'Mumbai', 'Delhi', 'Mumbai', 'Chennai', 'Chennai', 'Bengaluru', 'Chennai', 'Delhi', 'Bengaluru', 'Chennai', 'Chennai', 'Kolkata', 'Delhi', 'Chennai', 'Mumbai', 'Chennai', 'Mumbai', 'Chennai', 'Delhi', 'Chennai', 'Delhi', 'Mumbai', 'Delhi', 'Kolkata', 'Delhi', 'Chennai', 'Mumbai', 'Delhi', 'Chennai', 'Mumbai', 'Kolkata', 'Chennai', 'Bengaluru', 'Bengaluru', 'Bengaluru', 'Kolkata', 'Mumbai', 'Delhi', 'Kolkata', 'Mumbai', 'Delhi', 'Kolkata', 'Bengaluru', 'Mumbai', 'Chennai', 'Bengaluru', 'Bengaluru', 'Chennai', 'Kolkata', 'Mumbai', 'Mumbai', 'Delhi', 'Delhi', 'Bengaluru', 'Kolkata', 'Delhi', 'Delhi', 'Kolkata', 'Chennai', 'Bengaluru', 'Mumbai', 'Kolkata', 'Bengaluru', 'Bengaluru', 'Mumbai', 'Bengaluru', 'Delhi', 'Delhi', 'Delhi', 'Chennai', 'Chennai', 'Bengaluru', 'Chennai', 'Mumbai', 'Chennai', 'Bengaluru', 'Mumbai', 'Bengaluru', 'Bengaluru', 'Mumbai', 'Mumbai', 'Kolkata', 'Chennai', 'Chennai', 'Delhi', 'Bengaluru', 'Bengaluru', 'Kolkata', 'Chennai', 'Chennai', 'Kolkata', 'Kolkata', 'Chennai', 'Chennai', 'Delhi', 'Delhi', 'Mumbai', 'Bengaluru', 'Bengaluru', 'Chennai', 'Delhi', 'Bengaluru', 'Chennai', 'Delhi', 'Chennai']\n"
     ]
    }
   ],
   "source": [
    "paises=calcula_paises(encuesta)\n",
    "print(paises)"
   ]
  },
  {
   "cell_type": "markdown",
   "metadata": {},
   "source": [
    "Ahora transformamos nuestra lista en un conjunto:"
   ]
  },
  {
   "cell_type": "code",
   "execution_count": 7,
   "metadata": {},
   "outputs": [
    {
     "name": "stdout",
     "output_type": "stream",
     "text": [
      "{'Kolkata', 'Mumbai', 'Chennai', 'Bengaluru', 'Delhi'}\n"
     ]
    }
   ],
   "source": [
    "conjuntopaises=set(paises)\n",
    "print(conjuntopaises)\n"
   ]
  },
  {
   "cell_type": "code",
   "execution_count": 8,
   "metadata": {},
   "outputs": [
    {
     "name": "stdout",
     "output_type": "stream",
     "text": [
      "En total hay: 5 paises\n"
     ]
    }
   ],
   "source": [
    "print(\"En total hay:\", len(conjuntopaises), \"paises\")"
   ]
  },
  {
   "cell_type": "markdown",
   "metadata": {},
   "source": [
    "def filtrar_por_genero(encuesta, genero='Female'):\n",
    "    listagenero=[]\n",
    "    if encuesta is not None:\n",
    "        encuesta=filtrar_por_genero(encuesta, genero='Female')\n",
    "    for linea in encuesta:\n",
    "        if linea[1]==genero:\n",
    "            listagenero=listagenero.append(linea)\n",
    "    return listagenero\n",
    "    \n",
    "\n"
   ]
  },
  {
   "cell_type": "markdown",
   "metadata": {},
   "source": []
  },
  {
   "cell_type": "markdown",
   "metadata": {},
   "source": [
    "listamujeres=filtrar_por_genero(encuesta)"
   ]
  },
  {
   "cell_type": "markdown",
   "metadata": {},
   "source": [
    "Para ver cuántas mujeres y cuántos hombres han participado:"
   ]
  },
  {
   "cell_type": "markdown",
   "metadata": {},
   "source": [
    "## FUNCIÓN GRÁFICA"
   ]
  },
  {
   "cell_type": "markdown",
   "metadata": {},
   "source": [
    "Primero filtramos la lista para ver edades de la encuesta:"
   ]
  },
  {
   "cell_type": "code",
   "execution_count": 9,
   "metadata": {},
   "outputs": [],
   "source": [
    "lista_edad=[]\n",
    "def lee_edad(fichero):\n",
    "    \n",
    "    with open (fichero, encoding='utf-8') as f:\n",
    "        lector = csv.reader(f)\n",
    "        next(lector)\n",
    "        for linea in lector:\n",
    "            tupla=(int(linea[2]))\n",
    "            lista_edad.append(tupla)\n",
    "        return lista_edad"
   ]
  },
  {
   "cell_type": "markdown",
   "metadata": {},
   "source": [
    "Después creamos una lista de edad desde el fichero de encuesta:"
   ]
  },
  {
   "cell_type": "code",
   "execution_count": 16,
   "metadata": {},
   "outputs": [
    {
     "name": "stdout",
     "output_type": "stream",
     "text": [
      "[49, 59, 54, 42, 30, 38, 45, 23, 59, 48, 55, 73, 54, 34, 54, 53, 23, 30, 37, 52, 39, 38, 71, 31, 42, 65, 65, 33, 29, 24, 59, 40, 52, 47, 66, 62, 73, 23, 45, 43, 21, 45, 54, 22, 26, 72, 29, 65, 34, 26]\n"
     ]
    }
   ],
   "source": [
    "listaedades=lee_edad('encuestas_compras.csv')\n",
    "print(listaedades [:50])"
   ]
  },
  {
   "cell_type": "code",
   "execution_count": 26,
   "metadata": {},
   "outputs": [
    {
     "name": "stdout",
     "output_type": "stream",
     "text": [
      "Hay  58 edades diferentes\n"
     ]
    }
   ],
   "source": [
    "conjuntoedades=set(listaedades)\n",
    "print(\"Hay \", len(conjuntoedades), \"edades diferentes\")"
   ]
  },
  {
   "cell_type": "markdown",
   "metadata": {},
   "source": [
    "# GRÁFICO:"
   ]
  },
  {
   "cell_type": "markdown",
   "metadata": {},
   "source": [
    "Realizamos un gráfico con la lista de edades:"
   ]
  },
  {
   "cell_type": "code",
   "execution_count": 17,
   "metadata": {},
   "outputs": [],
   "source": [
    "def grafico_edad(lista_edad):\n",
    "\n",
    "    intervalos = [10,20,30, 40, 50, 60, 70,80] #indicamos los extremos los intervalos de edad\n",
    "    #hasta 10, de 10 a 20, de 20 a 30,.... mayores de 80\n",
    "    \n",
    "    plt.hist(x=lista_edad, bins=intervalos, color='blue', rwidth=0.85)\n",
    "    plt.title('Gráfico de edades encuesta')\n",
    "    plt.xlabel('Edades')\n",
    "    plt.ylabel('Frecuencia')\n",
    "    plt.xticks(intervalos)\n",
    "    \n",
    "    plt.show()"
   ]
  },
  {
   "cell_type": "code",
   "execution_count": 18,
   "metadata": {},
   "outputs": [
    {
     "data": {
      "image/png": "[encoded data removed]",
      "text/plain": [
       "<Figure size 432x288 with 1 Axes>"
      ]
     },
     "metadata": {
      "needs_background": "light"
     },
     "output_type": "display_data"
    }
   ],
   "source": [
    "grafico_edad(lista_edad)"
   ]
  },
  {
   "cell_type": "markdown",
   "metadata": {},
   "source": [
    "## Funciones relacionadas con los datos:"
   ]
  },
  {
   "cell_type": "code",
   "execution_count": 24,
   "metadata": {},
   "outputs": [
    {
     "data": {
      "text/plain": [
       "[75, 75, 75, 75, 75]"
      ]
     },
     "execution_count": 24,
     "metadata": {},
     "output_type": "execute_result"
    }
   ],
   "source": [
    "def calcula_maximo(listaedades):\n",
    "    edadmaxima=[]\n",
    "    for e in listaedades:\n",
    "        if e==max(listaedades):\n",
    "            edadmaxima.append(e)\n",
    "    return edadmaxima\n",
    "\n",
    "calcula_maximo(listaedades)"
   ]
  }
 ],
 "metadata": {
  "kernelspec": {
   "display_name": "Python 3 (ipykernel)",
   "language": "python",
   "name": "python3"
  },
  "language_info": {
   "codemirror_mode": {
    "name": "ipython",
    "version": 3
   },
   "file_extension": ".py",
   "mimetype": "text/x-python",
   "name": "python",
   "nbconvert_exporter": "python",
   "pygments_lexer": "ipython3",
   "version": "3.9.12"
  },
  "vscode": {
   "interpreter": {
    "hash": "ad2bdc8ecc057115af97d19610ffacc2b4e99fae6737bb82f5d7fb13d2f2c186"
   }
  }
 },
 "nbformat": 4,
 "nbformat_minor": 2
}
